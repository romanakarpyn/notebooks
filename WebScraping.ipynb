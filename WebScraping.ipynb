{
 "cells": [
  {
   "cell_type": "markdown",
   "id": "4e0c3851-8842-4392-8e64-7339f36e3791",
   "metadata": {},
   "source": [
    "## Web scraping"
   ]
  },
  {
   "cell_type": "markdown",
   "id": "d1f53d16-0685-44f4-9535-aa88326eccb3",
   "metadata": {},
   "source": [
    "Scrape bank's contact informations and write them to a txt file\n"
   ]
  },
  {
   "cell_type": "code",
   "execution_count": 2,
   "id": "2381008d-cdd4-4b80-8192-ef1be14c3f71",
   "metadata": {},
   "outputs": [],
   "source": [
    "import requests\n",
    "import bs4\n",
    "import webbrowser\n",
    "import string\n",
    "from pathlib import Path"
   ]
  },
  {
   "cell_type": "markdown",
   "id": "1f1c26e5-dd12-4c7a-b892-b64389ad6714",
   "metadata": {},
   "source": [
    "Check whether the website supports web scraping"
   ]
  },
  {
   "cell_type": "code",
   "execution_count": 3,
   "id": "a9cae9c6-fb6c-478e-a9e2-000c48961102",
   "metadata": {},
   "outputs": [
    {
     "data": {
      "text/plain": [
       "True"
      ]
     },
     "execution_count": 3,
     "metadata": {},
     "output_type": "execute_result"
    }
   ],
   "source": [
    "webbrowser.open('http://bankinfouk.com/robots.txt')"
   ]
  },
  {
   "cell_type": "markdown",
   "id": "d6fbed16-cdde-428c-91f3-03a04b71570d",
   "metadata": {},
   "source": [
    "#### Get data"
   ]
  },
  {
   "cell_type": "code",
   "execution_count": 4,
   "id": "b19e0ce6-4550-4397-82a1-1c2918557139",
   "metadata": {},
   "outputs": [],
   "source": [
    "# Get data\n",
    "page_num = 1\n",
    "url = \"http://bankinfouk.com/banks/contacts/page:1\"\n",
    "\n",
    "while page_num <= 5:\n",
    "    url = url[:len(url) - 1] + str(page_num)  # Modify existing url to move to the next page on website\n",
    "    response = requests.get(url)\n",
    "    # print(response.status_code)\n",
    "    \n",
    "    soup_obj = bs4.BeautifulSoup(response.content, \"html.parser\")\n",
    "    \n",
    "    # Scrape multiple classes and write data into Banks_data.txt's file\n",
    "    for chunk in soup_obj.find_all('div', {'class': ['result-title', 'description']}):\n",
    "        with open(str(Path.cwd()) + '/' + 'banks_data.txt', 'a') as file:\n",
    "            # print(chunk.text.strip(string.whitespace)) \n",
    "            file.write(chunk.text)\n",
    "    page_num += 1  "
   ]
  },
  {
   "cell_type": "markdown",
   "id": "afc62a2d-51d8-4039-9337-2d5d0bb789d2",
   "metadata": {},
   "source": [
    "## Simple financial data"
   ]
  },
  {
   "cell_type": "code",
   "execution_count": 5,
   "id": "4cde1372-e4c0-4d1b-99b0-3415d7908345",
   "metadata": {},
   "outputs": [
    {
     "data": {
      "text/plain": [
       "True"
      ]
     },
     "execution_count": 5,
     "metadata": {},
     "output_type": "execute_result"
    }
   ],
   "source": [
    "webbrowser.open('https://www.msn.com/robots.txt')"
   ]
  },
  {
   "cell_type": "code",
   "execution_count": 1,
   "id": "06467a05-7163-4c09-9d66-c6186175ce3b",
   "metadata": {},
   "outputs": [
    {
     "ename": "NameError",
     "evalue": "name 'requests' is not defined",
     "output_type": "error",
     "traceback": [
      "\u001b[0;31m---------------------------------------------------------------------------\u001b[0m",
      "\u001b[0;31mNameError\u001b[0m                                 Traceback (most recent call last)",
      "\u001b[0;32m/var/folders/c3/14jxbfhs0ns_s54j22w6dkyh0000gn/T/ipykernel_41066/3902028639.py\u001b[0m in \u001b[0;36m<module>\u001b[0;34m\u001b[0m\n\u001b[1;32m      2\u001b[0m \u001b[0;34m\u001b[0m\u001b[0m\n\u001b[1;32m      3\u001b[0m \u001b[0;34m\u001b[0m\u001b[0m\n\u001b[0;32m----> 4\u001b[0;31m \u001b[0mresponse_2\u001b[0m \u001b[0;34m=\u001b[0m \u001b[0mrequests\u001b[0m\u001b[0;34m.\u001b[0m\u001b[0mget\u001b[0m\u001b[0;34m(\u001b[0m\u001b[0murl_2\u001b[0m\u001b[0;34m)\u001b[0m\u001b[0;34m\u001b[0m\u001b[0;34m\u001b[0m\u001b[0m\n\u001b[0m\u001b[1;32m      5\u001b[0m \u001b[0msoup\u001b[0m \u001b[0;34m=\u001b[0m \u001b[0mbs4\u001b[0m\u001b[0;34m.\u001b[0m\u001b[0mBeautifulSoup\u001b[0m\u001b[0;34m(\u001b[0m\u001b[0mresponse_2\u001b[0m\u001b[0;34m.\u001b[0m\u001b[0mcontent\u001b[0m\u001b[0;34m,\u001b[0m \u001b[0;34m'html.parser'\u001b[0m\u001b[0;34m)\u001b[0m\u001b[0;34m\u001b[0m\u001b[0;34m\u001b[0m\u001b[0m\n\u001b[1;32m      6\u001b[0m \u001b[0mdata\u001b[0m \u001b[0;34m=\u001b[0m \u001b[0msoup\u001b[0m\u001b[0;34m.\u001b[0m\u001b[0mfind_all\u001b[0m\u001b[0;34m(\u001b[0m\u001b[0;34m\"div\"\u001b[0m\u001b[0;34m,\u001b[0m \u001b[0mclass_\u001b[0m \u001b[0;34m=\u001b[0m \u001b[0;34m\"secondaryIndexTile\"\u001b[0m\u001b[0;34m)\u001b[0m\u001b[0;34m\u001b[0m\u001b[0;34m\u001b[0m\u001b[0m\n",
      "\u001b[0;31mNameError\u001b[0m: name 'requests' is not defined"
     ]
    }
   ],
   "source": [
    "url_2 = \"https://www.msn.com/en-gb/money/markets\"\n",
    "\n",
    "\n",
    "response_2 = requests.get(url_2)\n",
    "soup = bs4.BeautifulSoup(response_2.content, 'html.parser')\n",
    "data = soup.find_all(\"div\", class_ = \"secondaryIndexTile\")\n",
    "\n",
    "\n",
    "\n",
    "dic_data = dict()\n",
    "for element in data:\n",
    "    title = element.find(\"div\", class_ =\"title\")\n",
    "    price = element.find(\"div\", class_ = \"price\")\n",
    "    variation = element.find(\"div\" , class_ = \"chp\")\n",
    "    dic_data[title.text] = [price.text, variation.text]\n",
    "\n",
    "#view the data in table format \n",
    "data = dic_data.copy()\n",
    "import pandas as pd\n",
    "data = pd.DataFrame(data, index = ['Price', 'Variation'])\n",
    "data.head()"
   ]
  },
  {
   "cell_type": "code",
   "execution_count": null,
   "id": "db6c9545-5526-4775-8d12-4becab444da9",
   "metadata": {},
   "outputs": [],
   "source": []
  }
 ],
 "metadata": {
  "kernelspec": {
   "display_name": "Python 3 (ipykernel)",
   "language": "python",
   "name": "python3"
  },
  "language_info": {
   "codemirror_mode": {
    "name": "ipython",
    "version": 3
   },
   "file_extension": ".py",
   "mimetype": "text/x-python",
   "name": "python",
   "nbconvert_exporter": "python",
   "pygments_lexer": "ipython3",
   "version": "3.9.7"
  }
 },
 "nbformat": 4,
 "nbformat_minor": 5
}
